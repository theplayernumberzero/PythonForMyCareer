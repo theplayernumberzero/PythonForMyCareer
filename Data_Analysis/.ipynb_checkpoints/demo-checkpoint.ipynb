{
 "cells": [
  {
   "cell_type": "code",
   "execution_count": 48,
   "id": "f110fc54-236d-4a39-991f-47ad5f694aed",
   "metadata": {},
   "outputs": [
    {
     "data": {
      "text/plain": [
       "array([1, 2, 3, 4, 5])"
      ]
     },
     "execution_count": 48,
     "metadata": {},
     "output_type": "execute_result"
    }
   ],
   "source": [
    "import numpy as np #NumPy, Python'da sayısal hesaplamalar için çok güçlü ve verimli bir kütüphanedir.\n",
    "arr = np.array([1,2,3,4,5])\n",
    "arr"
   ]
  },
  {
   "cell_type": "code",
   "execution_count": 50,
   "id": "e7460d4b-99b1-41a1-b876-1f11d1b653ce",
   "metadata": {},
   "outputs": [
    {
     "data": {
      "text/plain": [
       "2"
      ]
     },
     "execution_count": 50,
     "metadata": {},
     "output_type": "execute_result"
    }
   ],
   "source": [
    "#Find dimension of array\n",
    "multi_list = [[1,2],[3,4],[5,6]]\n",
    "multi_array = np.array(multi_list)\n",
    "multi_array.ndim #it gives dimesnsion number"
   ]
  },
  {
   "cell_type": "code",
   "execution_count": 52,
   "id": "96494e9f-911a-4cba-bac6-302c2147cf54",
   "metadata": {},
   "outputs": [
    {
     "data": {
      "text/plain": [
       "dtype('<U7')"
      ]
     },
     "execution_count": 52,
     "metadata": {},
     "output_type": "execute_result"
    }
   ],
   "source": [
    "#Find type of array\n",
    "list1 = [1,2,3]\n",
    "list2 = [\"Ali\",\"Mustafa\",\"Kenan\"]\n",
    "multi_array_1 = np.array(list1)\n",
    "multi_array_2 = np.array(list2)\n",
    "#gives type of array\n",
    "multi_array_1.dtype\n",
    "multi_array_2.dtype #U means unicodeString and number means max character"
   ]
  },
  {
   "cell_type": "code",
   "execution_count": 54,
   "id": "5e8f870d-131c-428c-a5f7-90c446088c97",
   "metadata": {},
   "outputs": [
    {
     "data": {
      "text/plain": [
       "array([1., 2., 3.])"
      ]
     },
     "execution_count": 54,
     "metadata": {},
     "output_type": "execute_result"
    }
   ],
   "source": [
    "#create array with 0's\n",
    "array = np.zeros(5)\n",
    "array #they are float\n",
    "\n",
    "#type convertsion\n",
    "array = array.astype(np.int64)\n",
    "array\n",
    "\n",
    "array2 = np.array([1,2,3], dtype = np.float64) #can describe type as parameter\n",
    "array2"
   ]
  },
  {
   "cell_type": "code",
   "execution_count": 56,
   "id": "e0a0614e-953b-4209-85a5-16f0ebeb9214",
   "metadata": {},
   "outputs": [
    {
     "data": {
      "text/plain": [
       "array([[ 2,  4,  6],\n",
       "       [ 8, 10, 12]])"
      ]
     },
     "execution_count": 56,
     "metadata": {},
     "output_type": "execute_result"
    }
   ],
   "source": [
    "#Arithmetic operations\n",
    "list_a = [[1,2,3], [4,5,6]]\n",
    "list_b = [[7,8,9], [10,11,12]]\n",
    "array_a = np.array(list_a)\n",
    "array_b = np.array(list_b)\n",
    "\n",
    "array_a + array_b #matrix toplama gibi aynı indexler toplanır (aynı sayıda eleman olduğunda)\n",
    "\n",
    "array_a * 2 #her elemanını 2 ile çarpar"
   ]
  },
  {
   "cell_type": "code",
   "execution_count": 58,
   "id": "cf964299-3009-44eb-866d-5defacbc3fed",
   "metadata": {},
   "outputs": [
    {
     "data": {
      "text/plain": [
       "dtype('bool')"
      ]
     },
     "execution_count": 58,
     "metadata": {},
     "output_type": "execute_result"
    }
   ],
   "source": [
    "#Comparing arrays\n",
    "\n",
    "res = array_a > array_b #elemanları indexlerine göre kıyaslar ve her eleman için true/false değeri verir\n",
    "res.dtype #sonuçların tutulduğu True/False arrayi"
   ]
  },
  {
   "cell_type": "code",
   "execution_count": 69,
   "id": "2a920dfa-e806-4f13-a163-330d2d3b4d15",
   "metadata": {},
   "outputs": [
    {
     "data": {
      "text/plain": [
       "6"
      ]
     },
     "execution_count": 69,
     "metadata": {},
     "output_type": "execute_result"
    }
   ],
   "source": [
    "arr = np.array([[1,2,3],[4,5,6]])\n",
    "arr[1,2] #multi-dimensional indexing"
   ]
  },
  {
   "cell_type": "code",
   "execution_count": 73,
   "id": "161c1e35-2099-4e73-90f2-e1b37b2c5d15",
   "metadata": {},
   "outputs": [
    {
     "data": {
      "text/plain": [
       "array([[5, 6],\n",
       "       [8, 9]])"
      ]
     },
     "execution_count": 73,
     "metadata": {},
     "output_type": "execute_result"
    }
   ],
   "source": [
    "multi_array = np.array([[1,2,3],[4,5,6],[7,8,9]])\n",
    "#slicing multi-dimensional array\n",
    "multi_array[1:3,1:3] #tablo çiz, istenen bölge için önce row ele; ardından column ele"
   ]
  },
  {
   "cell_type": "code",
   "execution_count": 79,
   "id": "a3fec599-6397-4813-afc3-8ddb7469e4aa",
   "metadata": {},
   "outputs": [
    {
     "data": {
      "text/plain": [
       "array([1, 3, 7, 9])"
      ]
     },
     "execution_count": 79,
     "metadata": {},
     "output_type": "execute_result"
    }
   ],
   "source": [
    "#fancy indexing\n",
    "multi_array = np.array([[1,2,3],[4,5,6],[7,8,9]])\n",
    "\n",
    "multi_array[[0,0,2,2],[0,2,0,2]] #köşeleri verir. Instead giving only value, we describe rown and column"
   ]
  },
  {
   "cell_type": "code",
   "execution_count": 83,
   "id": "e0a709d8-2033-44f4-962b-c102d4e2c2bb",
   "metadata": {},
   "outputs": [
    {
     "data": {
      "text/plain": [
       "array([6, 7, 8, 9])"
      ]
     },
     "execution_count": 83,
     "metadata": {},
     "output_type": "execute_result"
    }
   ],
   "source": [
    "#Boolean indexing\n",
    "multi_array = np.array([[1,2,3],[4,5,6],[7,8,9]])\n",
    "\n",
    "multi_array[multi_array > 5] #conditional indexing (gives values which is true)"
   ]
  },
  {
   "cell_type": "code",
   "execution_count": 91,
   "id": "df7b00a1-ac39-44f9-a434-3d8367fed108",
   "metadata": {},
   "outputs": [
    {
     "data": {
      "text/plain": [
       "array([[ 2,  4,  6],\n",
       "       [ 5,  7,  9],\n",
       "       [ 8, 10, 12]])"
      ]
     },
     "execution_count": 91,
     "metadata": {},
     "output_type": "execute_result"
    }
   ],
   "source": [
    "#Broadcast: Tablolar aynı değilse küçük olan expand olur \n",
    "multi_array_1 = np.array([[1,2,3],[4,5,6],[7,8,9]])\n",
    "multi_array_2 = np.array([1,2,3])\n",
    "\n",
    "multi_array_1 + multi_array_2 #işlem tom rowlara aynı değerler ile yapıldı"
   ]
  },
  {
   "cell_type": "code",
   "execution_count": 141,
   "id": "afcaa10f-3241-4e8e-a8c3-8fcd826e98a4",
   "metadata": {},
   "outputs": [
    {
     "data": {
      "text/plain": [
       "numpy.ndarray"
      ]
     },
     "execution_count": 141,
     "metadata": {},
     "output_type": "execute_result"
    }
   ],
   "source": [
    "#creating series with pandas\n",
    "from pandas import Series #pandas series uses numpy array\n",
    "\n",
    "s = Series([1,3,5,7,9]) #values with indexes 0-n\n",
    "s[3] #index numarası girip value alıyoruz\n",
    "\n",
    "s.values #gives array\n",
    "s.index #gives rangeIndex\n",
    "\n",
    "#indexi biz verebiliriz\n",
    "s = Series([2,3,4,5], index = [1,2,3,4]) #index e girilen değerler string de olabilir\n",
    "s\n",
    "\n",
    "#python dict kullanarak da Series oluşturabilirisin\n",
    "s = Series({'a':100, 'b':200, 'c':300}) #key ler index, value lar value olur\n",
    "s\n",
    "\n",
    "#Series methods and attributes\n",
    "s = Series([1,2,3,3,5,7,1,4,9])\n",
    "s\n",
    "\n",
    "#Series methods\n",
    "s.sum()\n",
    "s.product() #tüm elemanlar çarpar\n",
    "s.mean() #ortalama alır\n",
    "\n",
    "#Series attributes\n",
    "s.dtype\n",
    "s.ndim #dimension\n",
    "s.size\n",
    "s.index #gives rangeIndex\n",
    "s.values #gives value array (numpy array)\n",
    "type(s.values) #numpy.ndarray"
   ]
  },
  {
   "cell_type": "code",
   "execution_count": 185,
   "id": "d353e339-f8cd-49d3-ad4b-6f68fe582f08",
   "metadata": {},
   "outputs": [
    {
     "data": {
      "text/html": [
       "<div>\n",
       "<style scoped>\n",
       "    .dataframe tbody tr th:only-of-type {\n",
       "        vertical-align: middle;\n",
       "    }\n",
       "\n",
       "    .dataframe tbody tr th {\n",
       "        vertical-align: top;\n",
       "    }\n",
       "\n",
       "    .dataframe thead th {\n",
       "        text-align: right;\n",
       "    }\n",
       "</style>\n",
       "<table border=\"1\" class=\"dataframe\">\n",
       "  <thead>\n",
       "    <tr style=\"text-align: right;\">\n",
       "      <th></th>\n",
       "      <th>banana</th>\n",
       "      <th>apple</th>\n",
       "      <th>mango</th>\n",
       "    </tr>\n",
       "  </thead>\n",
       "  <tbody>\n",
       "    <tr>\n",
       "      <th>a</th>\n",
       "      <td>5</td>\n",
       "      <td>3</td>\n",
       "      <td>4</td>\n",
       "    </tr>\n",
       "    <tr>\n",
       "      <th>b</th>\n",
       "      <td>8</td>\n",
       "      <td>6</td>\n",
       "      <td>7</td>\n",
       "    </tr>\n",
       "    <tr>\n",
       "      <th>c</th>\n",
       "      <td>2</td>\n",
       "      <td>0</td>\n",
       "      <td>1</td>\n",
       "    </tr>\n",
       "  </tbody>\n",
       "</table>\n",
       "</div>"
      ],
      "text/plain": [
       "   banana  apple  mango\n",
       "a       5      3      4\n",
       "b       8      6      7\n",
       "c       2      0      1"
      ]
     },
     "execution_count": 185,
     "metadata": {},
     "output_type": "execute_result"
    }
   ],
   "source": [
    "#DataFrame (tabular) with pandas: Used with multi-dimensional array\n",
    "#columns can be different data type\n",
    "\n",
    "#in real world app you dont need to create dataFrame becasue they are used to load data from file\n",
    "from pandas import DataFrame\n",
    "\n",
    "people = {'name': ['Ali', 'Mustafa', 'Arda'], 'age': [12,24,35]}\n",
    "frame = DataFrame(people, columns = ['age', 'name', 'places']) #you can change column order, also can add extra column(NaN)\n",
    "frame\n",
    "\n",
    "frame['age'] #or frame.age\n",
    "\n",
    "frame.loc[1] #gives row acording to index\n",
    "\n",
    "frame.places = 'ISTANBUL' #columndaki tüm rowlar aynı değer olur\n",
    "frame\n",
    "\n",
    "#adding values to column\n",
    "places = Series(['Ardahan', 'Manisa', 'Sivas'])\n",
    "places\n",
    "frame.places = places\n",
    "frame\n",
    "\n",
    "#column silme\n",
    "del frame['places']\n",
    "frame\n",
    "\n",
    "#reindexing: reindexing Series or DataFrames\n",
    "s = Series([1,2,3,4,5], index = ['c', 'a','b','d', 'e'])\n",
    "s = s.reindex(['a', 'b', 'c', 'd', 'e']) #indexler valuelar ile birlikte değişti\n",
    "s\n",
    "\n",
    "#np nin bizim için multi-dimensional aarray oluşturmasını isteyeceğiz\n",
    "d = DataFrame(np.arange(9).reshape((3,3)), index = ['c', 'a', 'b'], columns = ['apple', 'mango', 'banana'])\n",
    "d\n",
    "\n",
    "d = d.reindex(['a','b','c'])\n",
    "d\n",
    "\n",
    "d = d.reindex(columns = ['banana', 'apple', 'mango'])\n",
    "d"
   ]
  },
  {
   "cell_type": "code",
   "execution_count": 197,
   "id": "4f16aced-4b36-4b5b-9fff-181e5e5aeeb1",
   "metadata": {},
   "outputs": [
    {
     "data": {
      "text/html": [
       "<div>\n",
       "<style scoped>\n",
       "    .dataframe tbody tr th:only-of-type {\n",
       "        vertical-align: middle;\n",
       "    }\n",
       "\n",
       "    .dataframe tbody tr th {\n",
       "        vertical-align: top;\n",
       "    }\n",
       "\n",
       "    .dataframe thead th {\n",
       "        text-align: right;\n",
       "    }\n",
       "</style>\n",
       "<table border=\"1\" class=\"dataframe\">\n",
       "  <thead>\n",
       "    <tr style=\"text-align: right;\">\n",
       "      <th></th>\n",
       "      <th>a</th>\n",
       "      <th>b</th>\n",
       "      <th>c</th>\n",
       "      <th>d</th>\n",
       "      <th>e</th>\n",
       "    </tr>\n",
       "  </thead>\n",
       "  <tbody>\n",
       "    <tr>\n",
       "      <th>0</th>\n",
       "      <td>0.0</td>\n",
       "      <td>2.0</td>\n",
       "      <td>4.0</td>\n",
       "      <td>3.0</td>\n",
       "      <td>4.0</td>\n",
       "    </tr>\n",
       "    <tr>\n",
       "      <th>1</th>\n",
       "      <td>8.0</td>\n",
       "      <td>10.0</td>\n",
       "      <td>12.0</td>\n",
       "      <td>8.0</td>\n",
       "      <td>9.0</td>\n",
       "    </tr>\n",
       "    <tr>\n",
       "      <th>2</th>\n",
       "      <td>16.0</td>\n",
       "      <td>18.0</td>\n",
       "      <td>20.0</td>\n",
       "      <td>13.0</td>\n",
       "      <td>14.0</td>\n",
       "    </tr>\n",
       "    <tr>\n",
       "      <th>3</th>\n",
       "      <td>15.0</td>\n",
       "      <td>16.0</td>\n",
       "      <td>17.0</td>\n",
       "      <td>18.0</td>\n",
       "      <td>19.0</td>\n",
       "    </tr>\n",
       "  </tbody>\n",
       "</table>\n",
       "</div>"
      ],
      "text/plain": [
       "      a     b     c     d     e\n",
       "0   0.0   2.0   4.0   3.0   4.0\n",
       "1   8.0  10.0  12.0   8.0   9.0\n",
       "2  16.0  18.0  20.0  13.0  14.0\n",
       "3  15.0  16.0  17.0  18.0  19.0"
      ]
     },
     "execution_count": 197,
     "metadata": {},
     "output_type": "execute_result"
    }
   ],
   "source": [
    "#arithmetic operations with fill values\n",
    "s1 = Series([10,20,30,40,50,60,70,80], index = [1,2,3,4,5,6,7,8])\n",
    "s2 = Series([10,20,30,40,50], index = [1,2,3,4,5])\n",
    "\n",
    "s1 + s2 #index 6,7,8 will be NaN\n",
    "\n",
    "s1.add(s2, fill_value = 0) #NaN olanlar fill_value ile 0 a eşitleyip + operatoru işlevini kullandık\n",
    "\n",
    "d1 = DataFrame(np.arange(9).reshape((3,3)), columns = ['a', 'b', 'c'])\n",
    "d2 = DataFrame(np.arange(20).reshape((4,5)), columns = ['a', 'b', 'c', 'd', 'e'])\n",
    "\n",
    "d1.add(d2, fill_value = 0) #NaN olanlar fill_value ile 0 a eşitleyip + operatoru işlevini kullandık"
   ]
  },
  {
   "cell_type": "code",
   "execution_count": 205,
   "id": "2f93c935-f4bc-48ae-8e63-11626d70fe93",
   "metadata": {},
   "outputs": [
    {
     "data": {
      "text/html": [
       "<div>\n",
       "<style scoped>\n",
       "    .dataframe tbody tr th:only-of-type {\n",
       "        vertical-align: middle;\n",
       "    }\n",
       "\n",
       "    .dataframe tbody tr th {\n",
       "        vertical-align: top;\n",
       "    }\n",
       "\n",
       "    .dataframe thead th {\n",
       "        text-align: right;\n",
       "    }\n",
       "</style>\n",
       "<table border=\"1\" class=\"dataframe\">\n",
       "  <thead>\n",
       "    <tr style=\"text-align: right;\">\n",
       "      <th></th>\n",
       "      <th>0</th>\n",
       "      <th>1</th>\n",
       "      <th>2</th>\n",
       "      <th>3</th>\n",
       "    </tr>\n",
       "  </thead>\n",
       "  <tbody>\n",
       "    <tr>\n",
       "      <th>0</th>\n",
       "      <td>1</td>\n",
       "      <td>3</td>\n",
       "      <td>5</td>\n",
       "      <td>7</td>\n",
       "    </tr>\n",
       "    <tr>\n",
       "      <th>1</th>\n",
       "      <td>5</td>\n",
       "      <td>7</td>\n",
       "      <td>9</td>\n",
       "      <td>11</td>\n",
       "    </tr>\n",
       "  </tbody>\n",
       "</table>\n",
       "</div>"
      ],
      "text/plain": [
       "   0  1  2   3\n",
       "0  1  3  5   7\n",
       "1  5  7  9  11"
      ]
     },
     "execution_count": 205,
     "metadata": {},
     "output_type": "execute_result"
    }
   ],
   "source": [
    "#Arithmetic operation with series and DataFrames\n",
    "from pandas import Series, DataFrame\n",
    "s = Series([1,2,3,4])\n",
    "d = DataFrame(np.arange(8).reshape(2,4))\n",
    "\n",
    "d + s #broadcasting (s aynı rowdan bir tane daha üretir)"
   ]
  },
  {
   "cell_type": "code",
   "execution_count": 213,
   "id": "9a5cc14f-5a1c-4b56-8dd4-9932a904a69f",
   "metadata": {},
   "outputs": [
    {
     "data": {
      "text/html": [
       "<div>\n",
       "<style scoped>\n",
       "    .dataframe tbody tr th:only-of-type {\n",
       "        vertical-align: middle;\n",
       "    }\n",
       "\n",
       "    .dataframe tbody tr th {\n",
       "        vertical-align: top;\n",
       "    }\n",
       "\n",
       "    .dataframe thead th {\n",
       "        text-align: right;\n",
       "    }\n",
       "</style>\n",
       "<table border=\"1\" class=\"dataframe\">\n",
       "  <thead>\n",
       "    <tr style=\"text-align: right;\">\n",
       "      <th></th>\n",
       "      <th>0</th>\n",
       "      <th>1</th>\n",
       "      <th>2</th>\n",
       "      <th>3</th>\n",
       "    </tr>\n",
       "  </thead>\n",
       "  <tbody>\n",
       "    <tr>\n",
       "      <th>0</th>\n",
       "      <td>10</td>\n",
       "      <td>11</td>\n",
       "      <td>12</td>\n",
       "      <td>13</td>\n",
       "    </tr>\n",
       "    <tr>\n",
       "      <th>1</th>\n",
       "      <td>14</td>\n",
       "      <td>15</td>\n",
       "      <td>16</td>\n",
       "      <td>17</td>\n",
       "    </tr>\n",
       "    <tr>\n",
       "      <th>2</th>\n",
       "      <td>18</td>\n",
       "      <td>19</td>\n",
       "      <td>20</td>\n",
       "      <td>21</td>\n",
       "    </tr>\n",
       "    <tr>\n",
       "      <th>3</th>\n",
       "      <td>22</td>\n",
       "      <td>23</td>\n",
       "      <td>24</td>\n",
       "      <td>25</td>\n",
       "    </tr>\n",
       "  </tbody>\n",
       "</table>\n",
       "</div>"
      ],
      "text/plain": [
       "    0   1   2   3\n",
       "0  10  11  12  13\n",
       "1  14  15  16  17\n",
       "2  18  19  20  21\n",
       "3  22  23  24  25"
      ]
     },
     "execution_count": 213,
     "metadata": {},
     "output_type": "execute_result"
    }
   ],
   "source": [
    "#Python function that applied to data set\n",
    "d = DataFrame(np.arange(16).reshape(4,4))\n",
    "d\n",
    "\n",
    "f = lambda x: x+10\n",
    "d.apply(f) #Data set elemanlarına function uygulama"
   ]
  },
  {
   "cell_type": "code",
   "execution_count": 247,
   "id": "87c53960-45f8-4d58-be58-be5ff5d064c0",
   "metadata": {},
   "outputs": [
    {
     "data": {
      "text/html": [
       "<div>\n",
       "<style scoped>\n",
       "    .dataframe tbody tr th:only-of-type {\n",
       "        vertical-align: middle;\n",
       "    }\n",
       "\n",
       "    .dataframe tbody tr th {\n",
       "        vertical-align: top;\n",
       "    }\n",
       "\n",
       "    .dataframe thead th {\n",
       "        text-align: right;\n",
       "    }\n",
       "</style>\n",
       "<table border=\"1\" class=\"dataframe\">\n",
       "  <thead>\n",
       "    <tr style=\"text-align: right;\">\n",
       "      <th></th>\n",
       "      <th>name</th>\n",
       "      <th>price</th>\n",
       "    </tr>\n",
       "  </thead>\n",
       "  <tbody>\n",
       "    <tr>\n",
       "      <th>0</th>\n",
       "      <td>Laptop</td>\n",
       "      <td>30</td>\n",
       "    </tr>\n",
       "    <tr>\n",
       "      <th>2</th>\n",
       "      <td>PC</td>\n",
       "      <td>30</td>\n",
       "    </tr>\n",
       "    <tr>\n",
       "      <th>1</th>\n",
       "      <td>Phone</td>\n",
       "      <td>20</td>\n",
       "    </tr>\n",
       "  </tbody>\n",
       "</table>\n",
       "</div>"
      ],
      "text/plain": [
       "     name  price\n",
       "0  Laptop     30\n",
       "2      PC     30\n",
       "1   Phone     20"
      ]
     },
     "execution_count": 247,
     "metadata": {},
     "output_type": "execute_result"
    }
   ],
   "source": [
    "#sorting: like rearrange but this is automatically\n",
    "s = Series([1,2,3,4], index=[2,4,1,3])\n",
    "\n",
    "s.sort_index() #sort as looking indexes\n",
    "\n",
    "d = DataFrame(np.arange(16).reshape(4,4), index =['c', 'a', 'b', 'd'], columns = [2, 1, 3, 4])\n",
    "\n",
    "d.sort_index() #sort as rows\n",
    "d.sort_index(axis = 1) #sort as columns\n",
    "\n",
    "d.sort_index(ascending = False) #tersen sıralama\n",
    "d.sort_index(axis = 1, ascending = False) #sort as columns\n",
    "\n",
    "#sort with values\n",
    "s = Series([1000,200,300,40])\n",
    "s.sort_values()\n",
    "\n",
    "d = DataFrame({\"name\":['Laptop','Phone','PC'], \"price\":[30,20,30]})\n",
    "d\n",
    "\n",
    "d.sort_values(by='price', ascending = False)"
   ]
  },
  {
   "cell_type": "code",
   "execution_count": 255,
   "id": "0804bb8e-acd7-4b31-be63-94e4ae7374e4",
   "metadata": {},
   "outputs": [
    {
     "data": {
      "text/plain": [
       "False"
      ]
     },
     "execution_count": 255,
     "metadata": {},
     "output_type": "execute_result"
    }
   ],
   "source": [
    "#finding duplicate index\n",
    "s = Series([1,2,3,4,5], index=['a','b','b','d','e'])\n",
    "s\n",
    "\n",
    "s.index.is_unique #Series teki tüm indexler unique mi"
   ]
  },
  {
   "cell_type": "code",
   "execution_count": 261,
   "id": "84b99c51-ff16-4d78-b0be-9af409b59bdb",
   "metadata": {},
   "outputs": [
    {
     "data": {
      "text/html": [
       "<div>\n",
       "<style scoped>\n",
       "    .dataframe tbody tr th:only-of-type {\n",
       "        vertical-align: middle;\n",
       "    }\n",
       "\n",
       "    .dataframe tbody tr th {\n",
       "        vertical-align: top;\n",
       "    }\n",
       "\n",
       "    .dataframe thead th {\n",
       "        text-align: right;\n",
       "    }\n",
       "</style>\n",
       "<table border=\"1\" class=\"dataframe\">\n",
       "  <thead>\n",
       "    <tr style=\"text-align: right;\">\n",
       "      <th></th>\n",
       "      <th>price</th>\n",
       "    </tr>\n",
       "  </thead>\n",
       "  <tbody>\n",
       "    <tr>\n",
       "      <th>count</th>\n",
       "      <td>3.000000</td>\n",
       "    </tr>\n",
       "    <tr>\n",
       "      <th>mean</th>\n",
       "      <td>26.666667</td>\n",
       "    </tr>\n",
       "    <tr>\n",
       "      <th>std</th>\n",
       "      <td>5.773503</td>\n",
       "    </tr>\n",
       "    <tr>\n",
       "      <th>min</th>\n",
       "      <td>20.000000</td>\n",
       "    </tr>\n",
       "    <tr>\n",
       "      <th>25%</th>\n",
       "      <td>25.000000</td>\n",
       "    </tr>\n",
       "    <tr>\n",
       "      <th>50%</th>\n",
       "      <td>30.000000</td>\n",
       "    </tr>\n",
       "    <tr>\n",
       "      <th>75%</th>\n",
       "      <td>30.000000</td>\n",
       "    </tr>\n",
       "    <tr>\n",
       "      <th>max</th>\n",
       "      <td>30.000000</td>\n",
       "    </tr>\n",
       "  </tbody>\n",
       "</table>\n",
       "</div>"
      ],
      "text/plain": [
       "           price\n",
       "count   3.000000\n",
       "mean   26.666667\n",
       "std     5.773503\n",
       "min    20.000000\n",
       "25%    25.000000\n",
       "50%    30.000000\n",
       "75%    30.000000\n",
       "max    30.000000"
      ]
     },
     "execution_count": 261,
     "metadata": {},
     "output_type": "execute_result"
    }
   ],
   "source": [
    "#statistical methods\n",
    "d = DataFrame({\"name\":['Laptop','Phone','PC'], \"price\":[30,20,30]})\n",
    "\n",
    "#sum içine axis = 1 verirsen rowları toplar(rowdaki veri tipleri aynı olmalı)\n",
    "d.sum() #tüm columnları ayrı ayrı toplar\n",
    "\n",
    "d.count() #columların ayrı ayrı sayısını verir\n",
    "\n",
    "d.describe() #tablo hakkında bilgi verir"
   ]
  },
  {
   "cell_type": "code",
   "execution_count": null,
   "id": "de0141ae-1cac-41f5-8273-a5acc3b87385",
   "metadata": {},
   "outputs": [],
   "source": []
  }
 ],
 "metadata": {
  "kernelspec": {
   "display_name": "Python [conda env:base] *",
   "language": "python",
   "name": "conda-base-py"
  },
  "language_info": {
   "codemirror_mode": {
    "name": "ipython",
    "version": 3
   },
   "file_extension": ".py",
   "mimetype": "text/x-python",
   "name": "python",
   "nbconvert_exporter": "python",
   "pygments_lexer": "ipython3",
   "version": "3.12.7"
  }
 },
 "nbformat": 4,
 "nbformat_minor": 5
}
