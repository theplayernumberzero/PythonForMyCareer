{
 "cells": [
  {
   "cell_type": "code",
   "execution_count": 2,
   "id": "cc0214fa-810c-4e20-b409-31e12a778084",
   "metadata": {},
   "outputs": [
    {
     "data": {
      "text/plain": [
       "datetime.datetime(2025, 3, 6, 16, 23, 10, 377597)"
      ]
     },
     "execution_count": 2,
     "metadata": {},
     "output_type": "execute_result"
    }
   ],
   "source": [
    "from datetime import datetime\n",
    "datetime.now()"
   ]
  },
  {
   "cell_type": "code",
   "execution_count": 6,
   "id": "8668b29f-599a-4c58-92ed-3cff67c74a35",
   "metadata": {},
   "outputs": [
    {
     "data": {
      "text/plain": [
       "datetime.datetime(2025, 5, 26, 0, 0)"
      ]
     },
     "execution_count": 6,
     "metadata": {},
     "output_type": "execute_result"
    }
   ],
   "source": [
    "date = datetime(2025, 5,26)\n",
    "date"
   ]
  },
  {
   "cell_type": "code",
   "execution_count": 12,
   "id": "1c3aaaff-bde0-4680-b9ab-003b6f1e33f2",
   "metadata": {},
   "outputs": [
    {
     "data": {
      "text/plain": [
       "2025"
      ]
     },
     "execution_count": 12,
     "metadata": {},
     "output_type": "execute_result"
    }
   ],
   "source": [
    "date.day\n",
    "date.month\n",
    "date.year"
   ]
  },
  {
   "cell_type": "code",
   "execution_count": 14,
   "id": "dff3304a-d8f9-4839-af96-5bddf4a01026",
   "metadata": {},
   "outputs": [
    {
     "data": {
      "text/plain": [
       "datetime.datetime(2025, 5, 26, 9, 45, 34)"
      ]
     },
     "execution_count": 14,
     "metadata": {},
     "output_type": "execute_result"
    }
   ],
   "source": [
    "instance = date = datetime(2025,5,26,9,45,34)\n",
    "instance"
   ]
  },
  {
   "cell_type": "code",
   "execution_count": 16,
   "id": "a1fa6621-1473-4cd1-955a-77e6d86cb784",
   "metadata": {},
   "outputs": [
    {
     "data": {
      "text/plain": [
       "34"
      ]
     },
     "execution_count": 16,
     "metadata": {},
     "output_type": "execute_result"
    }
   ],
   "source": [
    "instance.day\n",
    "instance.month\n",
    "instance.year\n",
    "instance.hour\n",
    "instance.minute\n",
    "instance.second"
   ]
  },
  {
   "cell_type": "code",
   "execution_count": 22,
   "id": "7533263b-5d56-440f-a05b-75d9735457cf",
   "metadata": {},
   "outputs": [
    {
     "data": {
      "text/plain": [
       "datetime.timedelta(days=8685, seconds=59369, microseconds=798785)"
      ]
     },
     "execution_count": 22,
     "metadata": {},
     "output_type": "execute_result"
    }
   ],
   "source": [
    "how_old_am_ı = datetime.now() -  datetime(2001, 5,26)\n",
    "how_old_am_ı"
   ]
  },
  {
   "cell_type": "code",
   "execution_count": 28,
   "id": "9fa94bbe-3c56-4a2f-a045-f00b71a207d2",
   "metadata": {},
   "outputs": [
    {
     "data": {
      "text/plain": [
       "datetime.datetime(2025, 3, 6, 16, 32, 46, 25390)"
      ]
     },
     "execution_count": 28,
     "metadata": {},
     "output_type": "execute_result"
    }
   ],
   "source": [
    "date = datetime.now()\n",
    "date_string = str(date)\n",
    "date_string\n",
    "\n",
    "#formatlama\n",
    "datetime.strptime(date_string, '%Y-%m-%d %H:%M:%S.%f')"
   ]
  },
  {
   "cell_type": "code",
   "execution_count": 34,
   "id": "1ab6c18a-8429-493d-ba5b-49b3b95e9d3b",
   "metadata": {},
   "outputs": [
    {
     "data": {
      "text/plain": [
       "datetime.datetime(2024, 10, 1, 0, 0)"
      ]
     },
     "execution_count": 34,
     "metadata": {},
     "output_type": "execute_result"
    }
   ],
   "source": [
    "my_date = '2024-10-1'\n",
    "datetime.strptime(my_date, '%Y-%m-%d')"
   ]
  },
  {
   "cell_type": "code",
   "execution_count": 44,
   "id": "c62e9da1-8f9d-4a2e-8f18-839630987700",
   "metadata": {},
   "outputs": [
    {
     "data": {
      "text/plain": [
       "DatetimeIndex(['2023-12-23 10:45:23', '2023-12-24 10:45:23',\n",
       "               '2023-12-25 10:45:23', '2023-12-26 10:45:23',\n",
       "               '2023-12-27 10:45:23', '2023-12-28 10:45:23',\n",
       "               '2023-12-29 10:45:23', '2023-12-30 10:45:23',\n",
       "               '2023-12-31 10:45:23', '2024-01-01 10:45:23'],\n",
       "              dtype='datetime64[ns]', freq='D')"
      ]
     },
     "execution_count": 44,
     "metadata": {},
     "output_type": "execute_result"
    }
   ],
   "source": [
    "#date range\n",
    "import pandas as pd\n",
    "range_data = pd.date_range('1/1/2024', '6/1/2024')\n",
    "range_data_2 = pd.date_range('1/1/2024',periods=10)\n",
    "range_data_3 = pd.date_range(end = '1/1/2024 10:45:23',periods=10)\n",
    "range_data_2\n",
    "range_data_3"
   ]
  },
  {
   "cell_type": "code",
   "execution_count": 56,
   "id": "ecb66afc-d3d4-4073-9d13-a8345083c40d",
   "metadata": {},
   "outputs": [
    {
     "data": {
      "text/plain": [
       "2025-05-26    0.955196\n",
       "2025-06-26    0.856777\n",
       "dtype: float64"
      ]
     },
     "execution_count": 56,
     "metadata": {},
     "output_type": "execute_result"
    }
   ],
   "source": [
    "#creating time series\n",
    "from pandas import Series\n",
    "from datetime import datetime\n",
    "import numpy as np\n",
    "\n",
    "time = [datetime(2025,5,26), datetime(2025,6,26), datetime(2025,7,26), datetime(2025,8,26)]\n",
    "\n",
    "#datetime become timestamp\n",
    "s = Series(np.random.randn(4), index = time)\n",
    "s\n",
    "\n",
    "#truncate ile kısıtlama yapabilirsin\n",
    "s.truncate(after = '6/26/2025')"
   ]
  },
  {
   "cell_type": "code",
   "execution_count": 70,
   "id": "8814aa1a-70da-4b88-bc68-fc2fad1fd018",
   "metadata": {},
   "outputs": [
    {
     "data": {
      "text/plain": [
       "DatetimeIndex(['2024-01-01 00:00:00', '2024-01-01 09:34:00',\n",
       "               '2024-01-01 19:08:00', '2024-01-02 04:42:00',\n",
       "               '2024-01-02 14:16:00', '2024-01-02 23:50:00',\n",
       "               '2024-01-03 09:24:00', '2024-01-03 18:58:00',\n",
       "               '2024-01-04 04:32:00', '2024-01-04 14:06:00',\n",
       "               '2024-01-04 23:40:00', '2024-01-05 09:14:00',\n",
       "               '2024-01-05 18:48:00', '2024-01-06 04:22:00',\n",
       "               '2024-01-06 13:56:00', '2024-01-06 23:30:00',\n",
       "               '2024-01-07 09:04:00', '2024-01-07 18:38:00',\n",
       "               '2024-01-08 04:12:00', '2024-01-08 13:46:00'],\n",
       "              dtype='datetime64[ns]', freq='574min')"
      ]
     },
     "execution_count": 70,
     "metadata": {},
     "output_type": "execute_result"
    }
   ],
   "source": [
    "#frequency in time seris\n",
    "range_data = pd.date_range(start = '1/1/2024', periods = 20, freq='b') #b means business day\n",
    "range_data = pd.date_range(start = '1/1/2024', periods = 20, freq='9h34min') #9 hours 34 min ara ile\n",
    "range_data"
   ]
  },
  {
   "cell_type": "code",
   "execution_count": 80,
   "id": "cca234f4-25b1-413e-b181-b3d725685e0b",
   "metadata": {},
   "outputs": [
    {
     "data": {
      "text/plain": [
       "2024-02-07    0.373334\n",
       "2024-03-07   -1.904676\n",
       "2024-04-07   -0.478075\n",
       "2024-05-07    0.384328\n",
       "2024-06-07   -0.833438\n",
       "2024-07-07   -0.512288\n",
       "2024-08-07   -0.129449\n",
       "2024-09-07    0.712819\n",
       "2024-10-07   -0.551963\n",
       "2024-11-07    0.912912\n",
       "dtype: float64"
      ]
     },
     "execution_count": 80,
     "metadata": {},
     "output_type": "execute_result"
    }
   ],
   "source": [
    "#shifting time series\n",
    "from pandas import Series\n",
    "import numpy as np\n",
    "\n",
    "ts= Series(np.random.randn(10), index = pd.date_range('1/1/2024', periods=10, freq='ME'))\n",
    "ts.shift(7) #ilk değerler 7 ay sonraya taşınır. O tarihten öncesi NaN\n",
    "ts.shift(7, freq='D') \n"
   ]
  },
  {
   "cell_type": "code",
   "execution_count": null,
   "id": "661fe2c7-c794-4fb0-bf48-e9c823360bc4",
   "metadata": {},
   "outputs": [],
   "source": []
  }
 ],
 "metadata": {
  "kernelspec": {
   "display_name": "Python [conda env:base] *",
   "language": "python",
   "name": "conda-base-py"
  },
  "language_info": {
   "codemirror_mode": {
    "name": "ipython",
    "version": 3
   },
   "file_extension": ".py",
   "mimetype": "text/x-python",
   "name": "python",
   "nbconvert_exporter": "python",
   "pygments_lexer": "ipython3",
   "version": "3.12.7"
  }
 },
 "nbformat": 4,
 "nbformat_minor": 5
}
