{
 "cells": [
  {
   "cell_type": "code",
   "execution_count": 1,
   "id": "033c220c-e095-4f75-8dfa-cae036241712",
   "metadata": {},
   "outputs": [
    {
     "data": {
      "text/plain": [
       "0     1.5193\n",
       "1     1.0660\n",
       "2     0.7804\n",
       "3     0.5853\n",
       "4     2.9665\n",
       "       ...  \n",
       "57    6.6391\n",
       "58    4.1877\n",
       "59    2.5800\n",
       "60    2.8189\n",
       "61    0.3604\n",
       "Name: RetailPrice, Length: 62, dtype: float64"
      ]
     },
     "execution_count": 1,
     "metadata": {},
     "output_type": "execute_result"
    }
   ],
   "source": [
    "import pandas as pd\n",
    "fruit_prices = pd.read_csv('fruit_prices.csv') #csv file become DataFrame\n",
    "fruit_names = pd.read_csv('fruit_prices.csv', usecols=['Fruit']) #read column from csv, değer olarak column indexi de verebilirsin, ya da birden fazla column girebilirisin\n",
    "fruit_prices = pd.read_csv('fruit_prices.csv', usecols=['RetailPrice'])\n",
    "\n",
    "fruit_prices\n",
    "fruit_names\n",
    "\n",
    "type(fruit_names) #DataFrame\n",
    "type(fruit_prices)\n",
    "\n",
    "#dataframe i Series e çevir\n",
    "\n",
    "fruit_names = fruit_names.squeeze(\"columns\")\n",
    "fruit_prices = fruit_prices.squeeze(\"columns\")\n",
    "type(fruit_names) #Series\n",
    "fruit_prices"
   ]
  },
  {
   "cell_type": "code",
   "execution_count": 2,
   "id": "2dead803-8892-4cf5-8bd3-c665e458eef9",
   "metadata": {},
   "outputs": [
    {
     "data": {
      "text/plain": [
       "True"
      ]
     },
     "execution_count": 2,
     "metadata": {},
     "output_type": "execute_result"
    }
   ],
   "source": [
    "#Series to list and dict\n",
    "\n",
    "fruit_name_list = list(fruit_names)\n",
    "fruit_name_list\n",
    "\n",
    "fruit_price_list = list(fruit_prices)\n",
    "fruit_price_list\n",
    "\n",
    "fruit_name_dict = dict(fruit_names)\n",
    "fruit_name_dict\n",
    "\n",
    "fruit_price_dict = dict(fruit_prices)\n",
    "fruit_price_dict\n",
    "fruit_price_dict[3]\n",
    "\n",
    "#sorting\n",
    "sorted(fruit_price_list) #make Series to List and sorting it\n",
    "\n",
    "#searcing element on Series\n",
    "\"Apples\" in fruit_names.values #True"
   ]
  },
  {
   "cell_type": "code",
   "execution_count": 3,
   "id": "1276703c-1a67-4684-b378-bfa001bf9741",
   "metadata": {},
   "outputs": [
    {
     "data": {
      "text/plain": [
       "'no index like that'"
      ]
     },
     "execution_count": 3,
     "metadata": {},
     "output_type": "execute_result"
    }
   ],
   "source": [
    "import pandas as pd\n",
    "s = pd.Series([10,20,30,40] , index = ['a', 'b', 'c', 'd'])\n",
    "#Label Indexing\n",
    "s['a']\n",
    "\n",
    "#Label slicing\n",
    "s['a':'c'] #include c index also\n",
    "\n",
    "#integer indexing\n",
    "s.iloc[2] #oto index no ile işlem yapma, bizim girdiğimiz indexe bakmadan valueların sırasına bakar\n",
    "\n",
    "#integer slicing\n",
    "s[0:2] #doesnt include index 2\n",
    "\n",
    "#loc and iloc: one is use labels, other is use oto value\n",
    "s.loc['a']\n",
    "s.iloc[2]\n",
    "\n",
    "#boolean indexing\n",
    "s[s>20] #value 20 den büyük olanlar\n",
    "\n",
    "#use multiple indexing\n",
    "s[['a','c']] #indexleri [] içine al, integer indexing için de aynı şey geçerli\n",
    "\n",
    "#get method: same with iloc but if you enter index out of range get doesnt crash program\n",
    "fruit_names.iloc[1]\n",
    "fruit_names.get(100, default='no index like that') #no error\n"
   ]
  },
  {
   "cell_type": "code",
   "execution_count": 7,
   "id": "44e01758-1572-4672-8f42-71c3e8e52065",
   "metadata": {},
   "outputs": [
    {
     "data": {
      "text/plain": [
       "0                c\n",
       "1                b\n",
       "2                a\n",
       "3                b\n",
       "4                a\n",
       "          ...     \n",
       "57     Raspberries\n",
       "58     Raspberries\n",
       "59    Strawberries\n",
       "60    Strawberries\n",
       "61      Watermelon\n",
       "Name: Fruit, Length: 62, dtype: object"
      ]
     },
     "execution_count": 7,
     "metadata": {},
     "output_type": "execute_result"
    }
   ],
   "source": [
    "#change value inside Series\n",
    "fruit_names\n",
    "fruit_names[0] = 'Orange'\n",
    "fruit_names.iloc[0] = 'Orange'\n",
    "\n",
    "#change more than one value inside Series\n",
    "fruit_names[[2,3,4]] = ['c','b','a']\n",
    "fruit_names\n",
    "\n",
    "fruit_names[0:3] = ['c','b','a']\n",
    "fruit_names"
   ]
  },
  {
   "cell_type": "code",
   "execution_count": 15,
   "id": "bf7526f1-50a8-45bf-97be-d44f7387d75a",
   "metadata": {},
   "outputs": [
    {
     "data": {
      "text/plain": [
       "Fruit\n",
       "Mangoes                                     0.032258\n",
       "b                                           0.032258\n",
       "Peaches                                     0.032258\n",
       "Papaya                                      0.032258\n",
       "Blueberries                                 0.032258\n",
       "Blackberries                                0.032258\n",
       "Raspberries                                 0.032258\n",
       "Strawberries                                0.032258\n",
       "a                                           0.032258\n",
       "Pineapple                                   0.032258\n",
       "Oranges, ready-to-drink                     0.016129\n",
       "Oranges, frozen concentrate                 0.016129\n",
       "Pears, packed in syrup or water             0.016129\n",
       "Peaches, packed in juice                    0.016129\n",
       "Peaches, packed in syrup or water           0.016129\n",
       "Pears                                       0.016129\n",
       "Pears, packed in juice                      0.016129\n",
       "c                                           0.016129\n",
       "Pineapple, packed in juice                  0.016129\n",
       "Oranges                                     0.016129\n",
       "Pineapple, ready-to-drink                   0.016129\n",
       "Pineapple, frozen concentrate               0.016129\n",
       "Plum                                        0.016129\n",
       "Plum (prunes)                               0.016129\n",
       "Plum (prune), ready-to-drink                0.016129\n",
       "Pomegranate                                 0.016129\n",
       "Pomegranate, ready-to-drink                 0.016129\n",
       "Pineapple, packed in syrup or water         0.016129\n",
       "Kiwi                                        0.016129\n",
       "Nectarines                                  0.016129\n",
       "Cranberries                                 0.016129\n",
       "Apricots, packed in juice                   0.016129\n",
       "Apricots, packed in syrup or water          0.016129\n",
       "Apricots                                    0.016129\n",
       "Bananas                                     0.016129\n",
       "Berries, mixed                              0.016129\n",
       "Cantaloupe                                  0.016129\n",
       "Cherries                                    0.016129\n",
       "Cherries, packed in syrup or water          0.016129\n",
       "Clementines                                 0.016129\n",
       "Dates                                       0.016129\n",
       "Honeydew                                    0.016129\n",
       "Figs                                        0.016129\n",
       "Fruit cocktail, packed in juice             0.016129\n",
       "Fruit cocktail, packed in syrup or water    0.016129\n",
       "Grapefruit                                  0.016129\n",
       "Grapefruit, ready-to-drink                  0.016129\n",
       "Grapes                                      0.016129\n",
       "Grapes (raisins)                            0.016129\n",
       "Grapes, ready-to-drink                      0.016129\n",
       "Grapes, frozen concentrate                  0.016129\n",
       "Watermelon                                  0.016129\n",
       "Name: proportion, dtype: float64"
      ]
     },
     "execution_count": 15,
     "metadata": {},
     "output_type": "execute_result"
    }
   ],
   "source": [
    "#counting frequency of element\n",
    "fruit_names.value_counts() #oto sort\n",
    "fruit_names.value_counts(sort=False)\n",
    "\n",
    "fruit_names.value_counts(normalize=True) #tüm elemanlara göre oranını verir"
   ]
  },
  {
   "cell_type": "code",
   "execution_count": 35,
   "id": "b593e89d-2a80-4ffe-8920-b2e01705df44",
   "metadata": {},
   "outputs": [
    {
     "data": {
      "text/plain": [
       "fail    0.5\n",
       "pass    0.5\n",
       "Name: proportion, dtype: float64"
      ]
     },
     "execution_count": 35,
     "metadata": {},
     "output_type": "execute_result"
    }
   ],
   "source": [
    "#apply method: Allow to use funciton to every member of Series\n",
    "def summer_discount(x):\n",
    "    return x * 0.9\n",
    "\n",
    "prices = [100,200,300,400]\n",
    "s = pd.Series(prices)\n",
    "s\n",
    "\n",
    "s.apply(summer_discount)\n",
    "\n",
    "def pass_or_fail(num):\n",
    "    if num > 50:\n",
    "        return \"pass\"\n",
    "    else:\n",
    "        return \"fail\"\n",
    "\n",
    "grades = [23,54,12,87,34,76,34,56]\n",
    "grades_series = pd.Series(grades)\n",
    "\n",
    "result_series = grades_series.apply(pass_or_fail)\n",
    "result_series.value_counts()\n",
    "result_series.value_counts(normalize=True)\n"
   ]
  },
  {
   "cell_type": "code",
   "execution_count": 37,
   "id": "6d3a80af-88d0-43bc-8f2e-867059c34c77",
   "metadata": {},
   "outputs": [
    {
     "name": "stdout",
     "output_type": "stream",
     "text": [
      "0    1\n",
      "1    2\n",
      "2    3\n",
      "3    4\n",
      "dtype: int64\n"
     ]
    }
   ],
   "source": [
    "#map method: map values from two series having (at least) one similar column (primary key benziyor)\n",
    "#ortaklar ortadan kalkar\n",
    "import pandas as pd\n",
    "\n",
    "# Örnek bir Series\n",
    "data = pd.Series(['A', 'B', 'C', 'D'])\n",
    "\n",
    "# Her harfi bir sayıya eşleştiren bir sözlük\n",
    "mapping = {'A': 1, 'B': 2, 'C': 3, 'D': 4}\n",
    "\n",
    "# Sözlük ile eşleme\n",
    "result = data.map(mapping)\n",
    "\n",
    "print(result)"
   ]
  },
  {
   "cell_type": "code",
   "execution_count": null,
   "id": "b38cc78e-477e-479e-a19a-c774c990aaad",
   "metadata": {},
   "outputs": [],
   "source": []
  }
 ],
 "metadata": {
  "kernelspec": {
   "display_name": "Python [conda env:base] *",
   "language": "python",
   "name": "conda-base-py"
  },
  "language_info": {
   "codemirror_mode": {
    "name": "ipython",
    "version": 3
   },
   "file_extension": ".py",
   "mimetype": "text/x-python",
   "name": "python",
   "nbconvert_exporter": "python",
   "pygments_lexer": "ipython3",
   "version": "3.12.7"
  }
 },
 "nbformat": 4,
 "nbformat_minor": 5
}
