{
 "cells": [
  {
   "cell_type": "code",
   "execution_count": 25,
   "id": "033c220c-e095-4f75-8dfa-cae036241712",
   "metadata": {},
   "outputs": [
    {
     "data": {
      "text/plain": [
       "0     1.5193\n",
       "1     1.0660\n",
       "2     0.7804\n",
       "3     0.5853\n",
       "4     2.9665\n",
       "       ...  \n",
       "57    6.6391\n",
       "58    4.1877\n",
       "59    2.5800\n",
       "60    2.8189\n",
       "61    0.3604\n",
       "Name: RetailPrice, Length: 62, dtype: float64"
      ]
     },
     "execution_count": 25,
     "metadata": {},
     "output_type": "execute_result"
    }
   ],
   "source": [
    "import pandas as pd\n",
    "fruit_prices = pd.read_csv('fruit_prices.csv') #csv file become DataFrame\n",
    "fruit_names = pd.read_csv('fruit_prices.csv', usecols=['Fruit']) #read column from csv, değer olarak colun indexi de verebilirsin, ya da birden fazla column girebilirisin\n",
    "fruit_prices = pd.read_csv('fruit_prices.csv', usecols=['RetailPrice'])\n",
    "\n",
    "fruit_prices\n",
    "fruit_names\n",
    "\n",
    "type(fruit_names) #DataFrame\n",
    "type(fruit_prices)\n",
    "\n",
    "#dataframi Series e çevir\n",
    "\n",
    "fruit_names = fruit_names.squeeze(\"columns\")\n",
    "fruit_prices = fruit_prices.squeeze(\"columns\")\n",
    "type(fruit_names) #Series\n",
    "fruit_prices"
   ]
  },
  {
   "cell_type": "code",
   "execution_count": null,
   "id": "2dead803-8892-4cf5-8bd3-c665e458eef9",
   "metadata": {},
   "outputs": [],
   "source": []
  }
 ],
 "metadata": {
  "kernelspec": {
   "display_name": "Python [conda env:base] *",
   "language": "python",
   "name": "conda-base-py"
  },
  "language_info": {
   "codemirror_mode": {
    "name": "ipython",
    "version": 3
   },
   "file_extension": ".py",
   "mimetype": "text/x-python",
   "name": "python",
   "nbconvert_exporter": "python",
   "pygments_lexer": "ipython3",
   "version": "3.12.7"
  }
 },
 "nbformat": 4,
 "nbformat_minor": 5
}
